{
 "cells": [
  {
   "cell_type": "code",
   "execution_count": 1,
   "metadata": {},
   "outputs": [],
   "source": [
    "# Juan Pardo Palazón\n",
    "\n",
    "# Importacion de librerias\n",
    "from matplotlib import pyplot\n",
    "import matplotlib.pyplot as plt\n",
    "from pandas import read_csv\n",
    "from pandas.plotting import lag_plot\n",
    "import os\n",
    "from sklearn.metrics import mean_squared_error\n",
    "from math import sqrt\n",
    "from functools import reduce\n",
    "from sklearn.metrics import r2_score\n",
    "import pandas as pd"
   ]
  },
  {
   "cell_type": "code",
   "execution_count": 2,
   "metadata": {},
   "outputs": [],
   "source": [
    "DECIMALES = 2"
   ]
  },
  {
   "cell_type": "code",
   "execution_count": 3,
   "metadata": {},
   "outputs": [],
   "source": [
    "def generar_df(indicador, num_hogar, index):\n",
    "    datos = {'RMSE 00-06': indicador[0], \n",
    "        'RMSE 06-12': indicador[1], \n",
    "        'RMSE 12-18': indicador[2],\n",
    "        'RMSE 18-00': indicador[3],\n",
    "        'MEDIA RMSE': indicador[4], \n",
    "        'R2 00-06': indicador[5], \n",
    "        'R2 06-12': indicador[6],\n",
    "        'R2 12-18': indicador[7],\n",
    "        'R2 18-00': indicador[8]} \n",
    "    df_datos = pd.DataFrame(datos, index=[index]).apply(lambda x: round(x, DECIMALES))\n",
    "    df_datos.index.name = 'Tipo Prediccion'\n",
    "    return df_datos"
   ]
  },
  {
   "cell_type": "code",
   "execution_count": 4,
   "metadata": {},
   "outputs": [],
   "source": [
    "def media(lst): \n",
    "    return reduce(lambda a, b: a + b, lst) / len(lst)"
   ]
  },
  {
   "cell_type": "code",
   "execution_count": 5,
   "metadata": {},
   "outputs": [],
   "source": [
    "def generaRMSEPorRango(df_normal, df_wf, rango):\n",
    "    err_norm = sqrt(mean_squared_error(df_normal['Test '+rango], df_normal['Pred '+rango])) \n",
    "    err_wf = sqrt(mean_squared_error(df_wf['Test '+rango], df_wf['Pred '+rango])) \n",
    "    return err_norm, err_wf"
   ]
  },
  {
   "cell_type": "code",
   "execution_count": 6,
   "metadata": {},
   "outputs": [],
   "source": [
    "def generaR2PorRango(df_normal, df_wf, rango):\n",
    "    r2_norm = r2_score(df_normal['Test '+ rango], df_normal['Pred '+ rango])\n",
    "    r2_wf = r2_score(df_wf['Test '+ rango], df_wf['Pred '+ rango])\n",
    "    return r2_norm, r2_wf"
   ]
  },
  {
   "cell_type": "code",
   "execution_count": 7,
   "metadata": {},
   "outputs": [],
   "source": [
    "def calculaRMSE(df_NORMAL, df_WF):\n",
    "    \n",
    "    error_normG = list()\n",
    "    error_wfG = list()\n",
    "    \n",
    "    # Calcula RMSE para todos los rangos\n",
    "    err_norm, err_wf = generaRMSEPorRango(df_NORMAL,df_WF,'Rango 00-06')\n",
    "    error_normG.append(err_norm)\n",
    "    error_wfG.append(err_wf)\n",
    "    err_norm, err_wf = generaRMSEPorRango(df_NORMAL,df_WF,'Rango 06-12')\n",
    "    error_normG.append(err_norm)\n",
    "    error_wfG.append(err_wf)\n",
    "    err_norm, err_wf = generaRMSEPorRango(df_NORMAL,df_WF,'Rango 12-18')\n",
    "    error_normG.append(err_norm)\n",
    "    error_wfG.append(err_wf)\n",
    "    err_norm, err_wf = generaRMSEPorRango(df_NORMAL,df_WF,'Rango 18-00')\n",
    "    error_normG.append(err_norm)\n",
    "    error_wfG.append(err_wf)\n",
    "    error_normG.append(media(error_normG) )\n",
    "    error_wfG.append(media(error_wfG))\n",
    "    \n",
    "    return error_normG, error_wfG"
   ]
  },
  {
   "cell_type": "code",
   "execution_count": 8,
   "metadata": {},
   "outputs": [],
   "source": [
    "def calculaR2(df_NORMAL, df_WF):\n",
    "    \"\"\"Lee el fichero con los datos transformados\n",
    "     \n",
    "    Argumentos:\n",
    "    fichero -- nombre del fichero a leer\n",
    "    numero_hogar -- numero de hogar a tratar\n",
    "    \"\"\"\n",
    "    error_normG = list()\n",
    "    error_wfG = list()\n",
    "    \n",
    "    # Test predictions\n",
    "    err_norm, err_wf = generaR2PorRango(df_NORMAL,df_WF,'Rango 00-06')\n",
    "    error_normG.append(err_norm)\n",
    "    error_wfG.append(err_wf)\n",
    "    err_norm, err_wf = generaR2PorRango(df_NORMAL,df_WF,'Rango 06-12')\n",
    "    error_normG.append(err_norm)\n",
    "    error_wfG.append(err_wf)\n",
    "    err_norm, err_wf = generaR2PorRango(df_NORMAL,df_WF,'Rango 12-18')\n",
    "    error_normG.append(err_norm)\n",
    "    error_wfG.append(err_wf)\n",
    "    err_norm, err_wf = generaR2PorRango(df_NORMAL,df_WF,'Rango 18-00')\n",
    "    error_normG.append(err_norm)\n",
    "    error_wfG.append(err_wf)\n",
    "    \n",
    "    return error_normG, error_wfG"
   ]
  },
  {
   "cell_type": "code",
   "execution_count": 11,
   "metadata": {},
   "outputs": [],
   "source": [
    "def leerFicheroYCalcularIndicadores(fichero, numero_hogar):\n",
    "    \"\"\"Lee el fichero con los datos transformados\n",
    "     \n",
    "    Argumentos:\n",
    "    fichero -- nombre del fichero a leer\n",
    "    numero_hogar -- numero de hogar a tratar\n",
    "    \"\"\"\n",
    "    error_normG = list()\n",
    "    error_wfG = list()\n",
    "    df_NORMAL = read_csv(fichero + '_validacion_normalmodeloAR' + '.csv',  delimiter = ',', parse_dates=[0], index_col=0)\n",
    "    df_WF = read_csv(fichero + '_validacion_wfmodeloAR' + '.csv',  delimiter = ',', parse_dates=[0], index_col=0)\n",
    "    \n",
    "    rmse_norm, rmse_wf = calculaRMSE(df_NORMAL, df_WF)\n",
    "    r2_norm, r2_wf = calculaR2(df_NORMAL, df_WF)\n",
    "    \n",
    "    return rmse_norm + r2_norm, rmse_wf + r2_wf"
   ]
  },
  {
   "cell_type": "code",
   "execution_count": 12,
   "metadata": {},
   "outputs": [],
   "source": [
    "# Generar las gráficas\n",
    "for num_hogar in range(1, 22):\n",
    "    if num_hogar != 14:\n",
    "        error_normG, error_wfG = leerFicheroYCalcularIndicadores('Hogar_' + str(num_hogar), str(num_hogar))\n",
    "        #generar_fichero_rmse(error_normG, num_hogar)\n",
    "        norm = generar_df(error_normG, num_hogar,'norm')\n",
    "        wf = generar_df(error_wfG, num_hogar,'wf')\n",
    "        df = [norm, wf]\n",
    "        result = pd.concat(df)\n",
    "        result.to_csv('Hogar_' + str(num_hogar) + '_RMSE_R2.csv', sep=',', encoding='utf-8')"
   ]
  },
  {
   "cell_type": "code",
   "execution_count": null,
   "metadata": {},
   "outputs": [],
   "source": []
  }
 ],
 "metadata": {
  "kernelspec": {
   "display_name": "Python 3",
   "language": "python",
   "name": "python3"
  },
  "language_info": {
   "codemirror_mode": {
    "name": "ipython",
    "version": 3
   },
   "file_extension": ".py",
   "mimetype": "text/x-python",
   "name": "python",
   "nbconvert_exporter": "python",
   "pygments_lexer": "ipython3",
   "version": "3.7.3"
  }
 },
 "nbformat": 4,
 "nbformat_minor": 2
}
