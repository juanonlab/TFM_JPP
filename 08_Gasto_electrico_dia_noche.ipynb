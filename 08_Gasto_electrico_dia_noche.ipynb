{
 "cells": [
  {
   "cell_type": "code",
   "execution_count": 1,
   "metadata": {},
   "outputs": [],
   "source": [
    "# Juan Pardo Palazón\n",
    "\n",
    "# Importacion de librerias\n",
    "from matplotlib import pyplot\n",
    "import matplotlib.pyplot as plt\n",
    "from pandas import read_csv"
   ]
  },
  {
   "cell_type": "code",
   "execution_count": 2,
   "metadata": {},
   "outputs": [],
   "source": [
    "# Constantes\n",
    "LIMITE = 1000\n",
    "DECIMALES = 2\n",
    "FICHERO = 'Medias_Y_Coeficientes_Hogares.csv'\n",
    "FICHERO_SALIDA = 'Consumo_agrupado_dia_noche.csv'"
   ]
  },
  {
   "cell_type": "code",
   "execution_count": 3,
   "metadata": {},
   "outputs": [],
   "source": [
    "def mayor_consumo_tarde_noche(consumo_dia, consumo_tarde_noche):\n",
    "    return 1 if (consumo_tarde_noche >= consumo_dia) else 0"
   ]
  },
  {
   "cell_type": "code",
   "execution_count": 4,
   "metadata": {},
   "outputs": [],
   "source": [
    "def leer_fichero(fichero):\n",
    "    dataset = read_csv(fichero, header=0, infer_datetime_format=True, index_col=['Hogar'])\n",
    "    return dataset"
   ]
  },
  {
   "cell_type": "code",
   "execution_count": 8,
   "metadata": {},
   "outputs": [],
   "source": [
    "def media(rango1, rango2):\n",
    "    return (rango1 + rango2) / 2"
   ]
  },
  {
   "cell_type": "code",
   "execution_count": 9,
   "metadata": {},
   "outputs": [],
   "source": [
    "def guardar_fichero(df, fichero):\n",
    "    df.to_csv(fichero, sep=',', encoding='utf-8')"
   ]
  },
  {
   "cell_type": "code",
   "execution_count": 10,
   "metadata": {},
   "outputs": [],
   "source": [
    "def calcula_medias_consumos(dataset):\n",
    "    dataset['Consumo_dia'] = dataset.apply((lambda x: media(x['meanRango 06-12'], x['meanRango 12-18']) ), axis=1).apply(lambda x: round(x, DECIMALES))\n",
    "    dataset['Consumo_tarde_noche'] = dataset.apply((lambda x: media(x['meanRango 00-06'], x['meanRango 18-00']) ), axis=1).apply(lambda x: round(x, DECIMALES))\n",
    "    dataset['es_tarde_noche'] = dataset.apply((lambda x: mayor_consumo_tarde_noche(x['Consumo_dia'], x['Consumo_tarde_noche']) ), axis=1)\n",
    "    df = dataset[['Consumo_dia','Consumo_tarde_noche','es_tarde_noche']]\n",
    "    return df"
   ]
  },
  {
   "cell_type": "code",
   "execution_count": 11,
   "metadata": {},
   "outputs": [],
   "source": [
    "df = leer_fichero(FICHERO)\n",
    "df_final = calcula_medias_consumos(df)\n",
    "guardar_fichero(df_final, FICHERO_SALIDA)"
   ]
  }
 ],
 "metadata": {
  "kernelspec": {
   "display_name": "Python 3",
   "language": "python",
   "name": "python3"
  },
  "language_info": {
   "codemirror_mode": {
    "name": "ipython",
    "version": 3
   },
   "file_extension": ".py",
   "mimetype": "text/x-python",
   "name": "python",
   "nbconvert_exporter": "python",
   "pygments_lexer": "ipython3",
   "version": "3.7.3"
  }
 },
 "nbformat": 4,
 "nbformat_minor": 2
}
