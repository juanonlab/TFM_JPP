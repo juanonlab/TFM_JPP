{
 "cells": [
  {
   "cell_type": "code",
   "execution_count": 18,
   "metadata": {},
   "outputs": [],
   "source": [
    "# Juan Pardo Palazón\n",
    "\n",
    "# Importacion de librerias\n",
    "from matplotlib import pyplot\n",
    "import matplotlib.pyplot as plt\n",
    "from pandas import read_csv\n",
    "import pandas as pd"
   ]
  },
  {
   "cell_type": "code",
   "execution_count": 19,
   "metadata": {},
   "outputs": [],
   "source": [
    "def crearDataFrame():\n",
    "    \"\"\"Crea la cabecera del dataframe (df)\n",
    "    \"\"\"\n",
    "    df = pd.DataFrame(columns=['stdRango 00-06','meanRango 00-06','coefRango 00-06'\n",
    "                               ,'stdRango 06-12','meanRango 06-12','coefRango 06-12'\n",
    "                               ,'stdRango 12-18','meanRango 12-18','coefRango 12-18'\n",
    "                               ,'stdRango 18-00','meanRango 18-00','coefRango 18-00'])\n",
    "    df.index.name = 'Hogar'\n",
    "    return df"
   ]
  },
  {
   "cell_type": "code",
   "execution_count": 20,
   "metadata": {},
   "outputs": [],
   "source": [
    "def calcularDesviacionMediaCoeficiente(dataset, numeroHogar, contador, df):\n",
    "    \"\"\"Genera un data frame calculando la desviacion, \n",
    "    la media y el coeficiente de variabilidad para todos los rangos\n",
    "     \n",
    "    Argumentos:\n",
    "    dataset -- datos de un hogar\n",
    "    numeroHogar --- numeroHogar\n",
    "    contador -- contador\n",
    "    df -- dataframe\n",
    "    \"\"\"\n",
    "    # Se calcula la desviacion y la media para cada rango\n",
    "    desviacionColumnas = dataset.std(axis = 0, skipna = True) \n",
    "    mediaColumnas = dataset.mean(axis = 0, skipna = True)\n",
    "    coef0 = (desviacionColumnas[0]/mediaColumnas[0])*100\n",
    "    coef1 = (desviacionColumnas[1]/mediaColumnas[1])*100\n",
    "    coef2 = (desviacionColumnas[2]/mediaColumnas[2])*100\n",
    "    coef3 = (desviacionColumnas[3]/mediaColumnas[3])*100         \n",
    "\n",
    "    # Se guarda en una fila los resultados y se redondea a 2 decimales\n",
    "    df.loc[contador, 'stdRango 00-06'] = desviacionColumnas[0].round(2)\n",
    "    df.loc[contador, 'meanRango 00-06'] = mediaColumnas[0].round(2)\n",
    "    df.loc[contador, 'coefRango 00-06'] = coef0.round(2)\n",
    "    df.loc[contador, 'stdRango 06-12'] = desviacionColumnas[1].round(2)\n",
    "    df.loc[contador, 'meanRango 06-12'] = mediaColumnas[1].round(2)\n",
    "    df.loc[contador, 'coefRango 06-12'] = coef1.round(2)\n",
    "    df.loc[contador, 'stdRango 12-18'] = desviacionColumnas[2].round(2)\n",
    "    df.loc[contador, 'meanRango 12-18'] = mediaColumnas[2].round(2)\n",
    "    df.loc[contador, 'coefRango 12-18'] = coef2.round(2)\n",
    "    df.loc[contador, 'stdRango 18-00'] = desviacionColumnas[3].round(2)\n",
    "    df.loc[contador, 'meanRango 18-00'] = mediaColumnas[3].round(2)\n",
    "    df.loc[contador, 'coefRango 18-00'] = coef3.round(2)\n",
    "\n",
    "    return df"
   ]
  },
  {
   "cell_type": "code",
   "execution_count": 21,
   "metadata": {},
   "outputs": [],
   "source": [
    "def insertarFila(file_name, numero_hogar, contador, df):\n",
    "    \"\"\"Inserta la desviación típica, la media y el\n",
    "    coeficiente de variabilidad por cada rango horario\n",
    "     \n",
    "    Argumentos:\n",
    "    desviacionColumnas -- desviación típica de todos los rangos de un hogar\n",
    "    mediaColumnas -- media de todos los rangos de un hogar\n",
    "    numeroHogar -- numeroHogar\n",
    "    contador -- contador\n",
    "    df -- dataframe\n",
    "    \"\"\"\n",
    "    # Se leen los datos del fichero\n",
    "    dataset = read_csv(file_name + '.csv', header=0, infer_datetime_format=True, index_col=['Time'])\n",
    "    \n",
    "    # Calcula la desviación, la media y los coeficientes\n",
    "    df = calcularDesviacionMediaCoeficiente(dataset, numero_hogar, contador, df)\n",
    "    \n",
    "    # Se guarda en una fila los datos obtenidos en df\n",
    "    df.to_csv('Medias_Y_Coeficientes_Hogares222.csv', sep=',', encoding='utf-8')\n",
    "    return df"
   ]
  },
  {
   "cell_type": "code",
   "execution_count": 22,
   "metadata": {},
   "outputs": [],
   "source": [
    "contador = 0\n",
    "# Se crea un data frame vacío\n",
    "# que se irá rellenando\n",
    "# con las medias, coeficiente y desviación típica (std)\n",
    "# para cada hogar\n",
    "df = crearDataFrame()\n",
    "for num_hogar in range(1, 22):\n",
    "    contador += 1\n",
    "    if num_hogar != 14:\n",
    "        insertarFila('Hogar_' + str(num_hogar) + '_filtro_semanal_rango', str(num_hogar), contador, df)"
   ]
  }
 ],
 "metadata": {
  "kernelspec": {
   "display_name": "Python 3",
   "language": "python",
   "name": "python3"
  },
  "language_info": {
   "codemirror_mode": {
    "name": "ipython",
    "version": 3
   },
   "file_extension": ".py",
   "mimetype": "text/x-python",
   "name": "python",
   "nbconvert_exporter": "python",
   "pygments_lexer": "ipython3",
   "version": "3.7.3"
  }
 },
 "nbformat": 4,
 "nbformat_minor": 2
}
