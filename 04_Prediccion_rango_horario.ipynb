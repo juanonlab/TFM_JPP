{
 "cells": [
  {
   "cell_type": "code",
   "execution_count": 10,
   "metadata": {},
   "outputs": [],
   "source": [
    "# https://machinelearningmastery.com/train-final-machine-learning-model/\n",
    "# https://machinelearningmastery.com/autoregression-models-time-series-forecasting-python/\n",
    "# https://www.statisticshowto.datasciencecentral.com/lag-plot/\n",
    "# https://github.com/convergenceIM/alpha-scientist/blob/master/content/04_Walk_Forward_Modeling.ipynb\n",
    "# https://www.statisticshowto.datasciencecentral.com/lag-plot/\n",
    "from pandas import Series\n",
    "from matplotlib import pyplot\n",
    "from statsmodels.tsa.ar_model import AR\n",
    "from sklearn.metrics import mean_squared_error\n",
    "from pandas import read_csv\n",
    "from datetime import datetime\n",
    "from pandas.plotting import autocorrelation_plot\n",
    "from pandas.plotting import lag_plot\n",
    "from math import sqrt\n",
    "import pandas as pd \n",
    "from functools import reduce\n",
    "from matplotlib import pyplot\n",
    "from sklearn.metrics import r2_score\n",
    "import sklearn.metrics as metrics\n",
    "import numpy as np"
   ]
  },
  {
   "cell_type": "code",
   "execution_count": 11,
   "metadata": {},
   "outputs": [],
   "source": [
    "# Constantes\n",
    "NUMERO_TEST = 5\n",
    "PREFIJO_FICHERO = 'Hogar_' \n",
    "SUFIJO_FICHERO = '_filtro_semanal_rango.csv'\n",
    "DECIMALES = 2"
   ]
  },
  {
   "cell_type": "code",
   "execution_count": 3,
   "metadata": {},
   "outputs": [],
   "source": [
    "def obtenerARModelTest(series):\n",
    "    X = series.values\n",
    "    train, test = X[1:len(X)-NUMERO_TEST], X[len(X)-NUMERO_TEST:]\n",
    "    model = AR(train)\n",
    "    model_fit = model.fit()\n",
    "    window = model_fit.k_ar\n",
    "    coef = model_fit.params\n",
    "    return train,test,window,coef,model_fit"
   ]
  },
  {
   "cell_type": "code",
   "execution_count": 4,
   "metadata": {},
   "outputs": [],
   "source": [
    "def prediccionTest_AR(model_fit, train, test):\n",
    "    predictions = model_fit.predict(start=len(train), end=len(train)+len(test)-1, dynamic=False)\n",
    "    return predictions"
   ]
  },
  {
   "cell_type": "code",
   "execution_count": 5,
   "metadata": {},
   "outputs": [],
   "source": [
    "def prediccionTest_AR_WF(model_fit, train, test):\n",
    "    window = model_fit.k_ar\n",
    "    coef = model_fit.params\n",
    "\n",
    "    # walk forward over time steps in test\n",
    "    history = train[len(train)-window:]\n",
    "    history = [history[i] for i in range(len(history))]\n",
    "    predictions = list()\n",
    "    for t in range(len(test)):\n",
    "        length = len(history)\n",
    "        lag = [history[i] for i in range(length-window,length)]\n",
    "        yhat = coef[0]\n",
    "        for d in range(window):\n",
    "            yhat += coef[d+1] * lag[window-d-1]\n",
    "        obs = test[t]\n",
    "        predictions.append(yhat)\n",
    "        history.append(obs)  \n",
    "\n",
    "    return predictions"
   ]
  },
  {
   "cell_type": "code",
   "execution_count": 6,
   "metadata": {},
   "outputs": [],
   "source": [
    "def calcularPrediccionesTest(df, numPred, esWF):\n",
    "    # train, test, window, coef, model_fit\n",
    "    predictionGroup = list()\n",
    "    testGroup = list()\n",
    "        \n",
    "    series = df['Rango 00-06']\n",
    "    train,test,window,coef,model_fit = obtenerARModelTest(series)\n",
    "    predictions = prediccionTest_AR_WF(model_fit, train, test) if esWF else prediccionTest_AR(model_fit, train, test)  \n",
    "    predictionGroup.append(predictions)\n",
    "    testGroup.append(test)\n",
    "        \n",
    "    series = df['Rango 06-12']\n",
    "    train,test,window,coef,model_fit = obtenerARModelTest(series)\n",
    "    predictions = prediccionTest_AR_WF(model_fit, train, test) if esWF else prediccionTest_AR(model_fit, train, test)  \n",
    "    predictionGroup.append(predictions)\n",
    "    testGroup.append(test)\n",
    "    \n",
    "    series = df['Rango 12-18']\n",
    "    train,test,window,coef,model_fit = obtenerARModelTest(series)\n",
    "    predictions = prediccionTest_AR_WF(model_fit, train, test) if esWF else prediccionTest_AR(model_fit, train, test)  \n",
    "    predictionGroup.append(predictions)\n",
    "    testGroup.append(test)\n",
    "    \n",
    "    series = df['Rango 18-00']\n",
    "    train,test,window,coef,model_fit = obtenerARModelTest(series)\n",
    "    predictions = prediccionTest_AR_WF(model_fit, train, test) if esWF else prediccionTest_AR(model_fit, train, test)  \n",
    "    predictionGroup.append(predictions)\n",
    "    testGroup.append(test)\n",
    "    \n",
    "    return predictionGroup, testGroup"
   ]
  },
  {
   "cell_type": "code",
   "execution_count": 7,
   "metadata": {},
   "outputs": [],
   "source": [
    "def generar_fichero_validacion_test(df, esWF, tipo_prediccion):\n",
    "    prediccion, test = calcularPrediccionesTest(df, NUMERO_TEST, esWF)\n",
    "    datos_predicciones = {'Test Rango 00-06': test[0].tolist(), \n",
    "        'Pred Rango 00-06': prediccion[0], \n",
    "        'Test Rango 06-12': test[1].tolist(),\n",
    "        'Pred Rango 06-12': prediccion[1],\n",
    "        'Test Rango 12-18': test[2].tolist(), \n",
    "        'Pred Rango 12-18': prediccion[2], \n",
    "        'Test Rango 18-00': test[3].tolist(),\n",
    "        'Pred Rango 18-00': prediccion[3]} \n",
    "    df_prediccion = pd.DataFrame(datos_predicciones).apply(lambda x: round(x, DECIMALES))\n",
    "    df_prediccion.index.name = 'Semanas'\n",
    "    df_prediccion.to_csv('Hogar_' + str(num_hogar) + '_validacion_' + tipo_prediccion + 'modeloAR.csv', sep=',', encoding='utf-8')"
   ]
  },
  {
   "cell_type": "code",
   "execution_count": 8,
   "metadata": {},
   "outputs": [],
   "source": [
    "def procesa_hogar(num_hogar):\n",
    "    # Se compone el nombre del fichero\n",
    "    fichero = PREFIJO_FICHERO + str(num_hogar) + SUFIJO_FICHERO\n",
    "    # Leer el fichero\n",
    "    df = read_csv(fichero, delimiter = ',', parse_dates=[0], index_col=0)\n",
    "    # Prediccion Validacion Test con WalkForward\n",
    "    generar_fichero_validacion_test(df, True, 'wf')\n",
    "    # Prediccion Validacion Test del modelo AR normal\n",
    "    generar_fichero_validacion_test(df, False, 'normal')"
   ]
  },
  {
   "cell_type": "code",
   "execution_count": 9,
   "metadata": {},
   "outputs": [],
   "source": [
    "for num_hogar in range(1, 22):\n",
    "    if num_hogar != 14:\n",
    "        procesa_hogar(num_hogar)"
   ]
  }
 ],
 "metadata": {
  "kernelspec": {
   "display_name": "Python 3",
   "language": "python",
   "name": "python3"
  },
  "language_info": {
   "codemirror_mode": {
    "name": "ipython",
    "version": 3
   },
   "file_extension": ".py",
   "mimetype": "text/x-python",
   "name": "python",
   "nbconvert_exporter": "python",
   "pygments_lexer": "ipython3",
   "version": "3.7.3"
  }
 },
 "nbformat": 4,
 "nbformat_minor": 2
}
