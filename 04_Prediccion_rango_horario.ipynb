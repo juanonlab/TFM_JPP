{
 "cells": [
  {
   "cell_type": "code",
   "execution_count": 21,
   "metadata": {},
   "outputs": [],
   "source": [
    "# https://machinelearningmastery.com/train-final-machine-learning-model/\n",
    "# https://machinelearningmastery.com/autoregression-models-time-series-forecasting-python/\n",
    "# https://www.statisticshowto.datasciencecentral.com/lag-plot/\n",
    "# https://github.com/convergenceIM/alpha-scientist/blob/master/content/04_Walk_Forward_Modeling.ipynb\n",
    "# https://www.statisticshowto.datasciencecentral.com/lag-plot/\n",
    "from pandas import Series\n",
    "from matplotlib import pyplot\n",
    "from statsmodels.tsa.ar_model import AR\n",
    "from sklearn.metrics import mean_squared_error\n",
    "from pandas import read_csv\n",
    "from datetime import datetime\n",
    "from pandas.plotting import autocorrelation_plot\n",
    "from pandas.plotting import lag_plot\n",
    "from math import sqrt\n",
    "import pandas as pd \n",
    "from functools import reduce\n",
    "from matplotlib import pyplot\n",
    "from sklearn.metrics import r2_score\n",
    "import sklearn.metrics as metrics\n",
    "import numpy as np"
   ]
  },
  {
   "cell_type": "code",
   "execution_count": 22,
   "metadata": {},
   "outputs": [],
   "source": [
    "# Constantes\n",
    "NUMERO_TEST = 5\n",
    "PREFIJO_FICHERO = 'Hogar_' \n",
    "SUFIJO_FICHERO = '_filtro_semanal_rango.csv'\n",
    "DECIMALES = 2"
   ]
  },
  {
   "cell_type": "code",
   "execution_count": 23,
   "metadata": {},
   "outputs": [],
   "source": [
    "def obtenerARModel(series):\n",
    "    X = series.values\n",
    "    train, test = X[1:len(X)-NUMERO_TEST], X[len(X)-NUMERO_TEST:]\n",
    "    model = AR(train)\n",
    "    model_fit = model.fit()\n",
    "    window = model_fit.k_ar\n",
    "    coef = model_fit.params\n",
    "    return train,test,window,coef,model_fit"
   ]
  },
  {
   "cell_type": "code",
   "execution_count": 24,
   "metadata": {},
   "outputs": [],
   "source": [
    "def prediccionAR(model_fit, train, test):\n",
    "    predictions = model_fit.predict(start=len(train), end=len(train)+len(test)-1, dynamic=False)\n",
    "    return predictions"
   ]
  },
  {
   "cell_type": "code",
   "execution_count": 25,
   "metadata": {},
   "outputs": [],
   "source": [
    "def prediccionAR_WF(model_fit, train, test):\n",
    "    window = model_fit.k_ar\n",
    "    coef = model_fit.params\n",
    "\n",
    "    # walk forward over time steps in test\n",
    "    history = train[len(train)-window:]\n",
    "    history = [history[i] for i in range(len(history))]\n",
    "    predictions = list()\n",
    "    for t in range(len(test)):\n",
    "        length = len(history)\n",
    "        lag = [history[i] for i in range(length-window,length)]\n",
    "        yhat = coef[0]\n",
    "        for d in range(window):\n",
    "            yhat += coef[d+1] * lag[window-d-1]\n",
    "        obs = test[t]\n",
    "        predictions.append(yhat)\n",
    "        history.append(obs)  \n",
    "\n",
    "    return predictions"
   ]
  },
  {
   "cell_type": "code",
   "execution_count": 26,
   "metadata": {},
   "outputs": [],
   "source": [
    "def calcularPredicciones(df, numPred, esWF):\n",
    "    # train, test, window, coef, model_fit\n",
    "    predictionGroup = list()\n",
    "    testGroup = list()\n",
    "        \n",
    "    series = df['Rango 00-06']\n",
    "    train,test,window,coef,model_fit = obtenerARModel(series)\n",
    "    predictions = prediccionAR_WF(model_fit, train, test) if esWF else prediccionAR(model_fit, train, test)  \n",
    "    predictionGroup.append(predictions)\n",
    "    testGroup.append(test)\n",
    "        \n",
    "    series = df['Rango 06-12']\n",
    "    train,test,window,coef,model_fit = obtenerARModel(series)\n",
    "    predictions = prediccionAR_WF(model_fit, train, test) if esWF else prediccionAR(model_fit, train, test)  \n",
    "    predictionGroup.append(predictions)\n",
    "    testGroup.append(test)\n",
    "    \n",
    "    series = df['Rango 12-18']\n",
    "    train,test,window,coef,model_fit = obtenerARModel(series)\n",
    "    predictions = prediccionAR_WF(model_fit, train, test) if esWF else prediccionAR(model_fit, train, test)  \n",
    "    predictionGroup.append(predictions)\n",
    "    testGroup.append(test)\n",
    "    \n",
    "    series = df['Rango 18-00']\n",
    "    train,test,window,coef,model_fit = obtenerARModel(series)\n",
    "    predictions = prediccionAR_WF(model_fit, train, test) if esWF else prediccionAR(model_fit, train, test)  \n",
    "    predictionGroup.append(predictions)\n",
    "    testGroup.append(test)\n",
    "    \n",
    "    return predictionGroup, testGroup"
   ]
  },
  {
   "cell_type": "code",
   "execution_count": 27,
   "metadata": {},
   "outputs": [],
   "source": [
    "def generar_fichero_predicciones(df, esWF, tipo_prediccion):\n",
    "    prediccion, test = calcularPredicciones(df, NUMERO_TEST, esWF)\n",
    "    datos_predicciones = {'test_rango0': test[0].tolist(), \n",
    "        'pred_rango0': prediccion[0], \n",
    "        'test_rango1': test[1].tolist(),\n",
    "        'pred_rango1': prediccion[1],\n",
    "        'test_rango2': test[2].tolist(), \n",
    "        'pred_rango2': prediccion[2], \n",
    "        'test_rango3': test[3].tolist(),\n",
    "        'pred_rango3': prediccion[3]} \n",
    "    df_prediccion = pd.DataFrame(datos_predicciones).apply(lambda x: round(x, DECIMALES))\n",
    "    df_prediccion.index.name = 'Semanas'\n",
    "    df_prediccion.to_csv('Hogar_' + str(num_hogar) + '_prediccion_' + tipo_prediccion + '_ar.csv', sep=',', encoding='utf-8')"
   ]
  },
  {
   "cell_type": "code",
   "execution_count": 29,
   "metadata": {},
   "outputs": [],
   "source": [
    "num_hogar = 1\n",
    "# Se compone el nombre del fichero\n",
    "fichero = PREFIJO_FICHERO + str(num_hogar) + SUFIJO_FICHERO\n",
    "# Leer el fichero\n",
    "df = read_csv(fichero, delimiter = ',', parse_dates=[0], index_col=0)\n",
    "# Con WalkForward\n",
    "generar_fichero_predicciones(df, True, 'wf')\n",
    "# Sin WalkForward\n",
    "generar_fichero_predicciones(df, False, 'normal')"
   ]
  }
 ],
 "metadata": {
  "kernelspec": {
   "display_name": "Python 3",
   "language": "python",
   "name": "python3"
  },
  "language_info": {
   "codemirror_mode": {
    "name": "ipython",
    "version": 3
   },
   "file_extension": ".py",
   "mimetype": "text/x-python",
   "name": "python",
   "nbconvert_exporter": "python",
   "pygments_lexer": "ipython3",
   "version": "3.7.3"
  }
 },
 "nbformat": 4,
 "nbformat_minor": 2
}
